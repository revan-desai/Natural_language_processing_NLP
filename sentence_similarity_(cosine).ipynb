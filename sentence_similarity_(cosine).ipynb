{
  "nbformat": 4,
  "nbformat_minor": 0,
  "metadata": {
    "colab": {
      "provenance": [],
      "authorship_tag": "ABX9TyM3rJnnD1jcfGYQmrXXw9hP",
      "include_colab_link": true
    },
    "kernelspec": {
      "name": "python3",
      "display_name": "Python 3"
    },
    "language_info": {
      "name": "python"
    }
  },
  "cells": [
    {
      "cell_type": "markdown",
      "metadata": {
        "id": "view-in-github",
        "colab_type": "text"
      },
      "source": [
        "<a href=\"https://colab.research.google.com/github/revan-desai/Natural_language_processing_NLP/blob/main/sentence_similarity_(cosine).ipynb\" target=\"_parent\"><img src=\"https://colab.research.google.com/assets/colab-badge.svg\" alt=\"Open In Colab\"/></a>"
      ]
    },
    {
      "cell_type": "code",
      "execution_count": 26,
      "metadata": {
        "colab": {
          "base_uri": "https://localhost:8080/"
        },
        "id": "zXXhm3gEgFjs",
        "outputId": "2c1072bb-3123-4da7-a87a-fd6bbb875d9c"
      },
      "outputs": [
        {
          "output_type": "stream",
          "name": "stdout",
          "text": [
            "  (0, 1)\t0.5225352795887763\n",
            "  (0, 6)\t0.39740154871091776\n",
            "  (0, 2)\t0.39740154871091776\n",
            "  (0, 4)\t0.39740154871091776\n",
            "  (0, 0)\t0.39740154871091776\n",
            "  (0, 5)\t0.308617753724143\n",
            "  (1, 7)\t0.5225352795887763\n",
            "  (1, 6)\t0.39740154871091776\n",
            "  (1, 2)\t0.39740154871091776\n",
            "  (1, 4)\t0.39740154871091776\n",
            "  (1, 0)\t0.39740154871091776\n",
            "  (1, 5)\t0.308617753724143\n",
            "  (2, 3)\t0.8610369959439764\n",
            "  (2, 5)\t0.5085423203783267\n"
          ]
        }
      ],
      "source": [
        "text1=\"i like cricket im fan of dhoni.\"\n",
        "\n",
        "text2=\"i like cricket im fan of sachin.\"\n",
        "\n",
        "text3=\"i like football\"\n",
        "\n",
        "compare_list=[text1,text2,text3]\n",
        "from sklearn.feature_extraction.text import TfidfVectorizer\n",
        "\n",
        "tfidf=TfidfVectorizer()\n",
        "\n",
        "tfidf_matrix=tfidf.fit_transform(compare_list)\n",
        "\n",
        "print(tfidf_matrix)"
      ]
    },
    {
      "cell_type": "code",
      "source": [
        "tfidf.vocabulary_"
      ],
      "metadata": {
        "colab": {
          "base_uri": "https://localhost:8080/"
        },
        "id": "cAnVP6s2i2au",
        "outputId": "e76af01b-b421-4f09-8ae7-c4c9da832e8f"
      },
      "execution_count": 27,
      "outputs": [
        {
          "output_type": "execute_result",
          "data": {
            "text/plain": [
              "{'like': 5,\n",
              " 'cricket': 0,\n",
              " 'im': 4,\n",
              " 'fan': 2,\n",
              " 'of': 6,\n",
              " 'dhoni': 1,\n",
              " 'sachin': 7,\n",
              " 'football': 3}"
            ]
          },
          "metadata": {},
          "execution_count": 27
        }
      ]
    },
    {
      "cell_type": "code",
      "source": [
        "from sklearn.metrics.pairwise import cosine_similarity\n",
        "cos_sim=cosine_similarity(tfidf_matrix)\n",
        "\n",
        "print(cos_sim[1,0])"
      ],
      "metadata": {
        "colab": {
          "base_uri": "https://localhost:8080/"
        },
        "id": "rL0_WnyFjQz0",
        "outputId": "c92b132f-b1e0-4d40-bdb2-d1b3f25576e0"
      },
      "execution_count": 28,
      "outputs": [
        {
          "output_type": "stream",
          "name": "stdout",
          "text": [
            "0.7269568815850795\n"
          ]
        }
      ]
    },
    {
      "cell_type": "markdown",
      "source": [
        "# **using** **spacy**"
      ],
      "metadata": {
        "id": "c0OjHHgQk8JP"
      }
    },
    {
      "cell_type": "code",
      "source": [
        "import spacy\n",
        "\n",
        "nlp=spacy.load(\"en_core_web_sm\")\n",
        "\n",
        "text1=\"i like cricket.\"\n",
        "\n",
        "text2=\"i like crickeT.\"\n",
        "\n",
        "v1=nlp(text1)\n",
        "v2=nlp(text2)\n",
        "v1.similarity(v2)"
      ],
      "metadata": {
        "colab": {
          "base_uri": "https://localhost:8080/"
        },
        "id": "PT-0kr7_k6YL",
        "outputId": "aa6e5131-d710-4292-85fd-6f1abe900dec"
      },
      "execution_count": 30,
      "outputs": [
        {
          "output_type": "stream",
          "name": "stderr",
          "text": [
            "<ipython-input-30-11269e50af05>:11: UserWarning: [W007] The model you're using has no word vectors loaded, so the result of the Doc.similarity method will be based on the tagger, parser and NER, which may not give useful similarity judgements. This may happen if you're using one of the small models, e.g. `en_core_web_sm`, which don't ship with word vectors and only use context-sensitive tensors. You can always add your own word vectors, or use one of the larger models instead if available.\n",
            "  v1.similarity(v2)\n"
          ]
        },
        {
          "output_type": "execute_result",
          "data": {
            "text/plain": [
              "0.6491753855547717"
            ]
          },
          "metadata": {},
          "execution_count": 30
        }
      ]
    }
  ]
}