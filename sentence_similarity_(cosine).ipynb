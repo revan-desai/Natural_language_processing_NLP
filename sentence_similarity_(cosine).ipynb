{
  "nbformat": 4,
  "nbformat_minor": 0,
  "metadata": {
    "colab": {
      "provenance": [],
      "authorship_tag": "ABX9TyNTlhV2FbUTEV9DSy6OE9cm",
      "include_colab_link": true
    },
    "kernelspec": {
      "name": "python3",
      "display_name": "Python 3"
    },
    "language_info": {
      "name": "python"
    }
  },
  "cells": [
    {
      "cell_type": "markdown",
      "metadata": {
        "id": "view-in-github",
        "colab_type": "text"
      },
      "source": [
        "<a href=\"https://colab.research.google.com/github/revan-desai/Natural_language_processing_NLP/blob/main/sentence_similarity_(cosine).ipynb\" target=\"_parent\"><img src=\"https://colab.research.google.com/assets/colab-badge.svg\" alt=\"Open In Colab\"/></a>"
      ]
    },
    {
      "cell_type": "code",
      "execution_count": 13,
      "metadata": {
        "colab": {
          "base_uri": "https://localhost:8080/"
        },
        "id": "zXXhm3gEgFjs",
        "outputId": "8cb3f54d-5a6d-450e-ed15-80ac590fb6f2"
      },
      "outputs": [
        {
          "output_type": "stream",
          "name": "stdout",
          "text": [
            "  (0, 1)\t0.5225352795887763\n",
            "  (0, 6)\t0.39740154871091776\n",
            "  (0, 2)\t0.39740154871091776\n",
            "  (0, 4)\t0.39740154871091776\n",
            "  (0, 0)\t0.39740154871091776\n",
            "  (0, 5)\t0.308617753724143\n",
            "  (1, 7)\t0.5225352795887763\n",
            "  (1, 6)\t0.39740154871091776\n",
            "  (1, 2)\t0.39740154871091776\n",
            "  (1, 4)\t0.39740154871091776\n",
            "  (1, 0)\t0.39740154871091776\n",
            "  (1, 5)\t0.308617753724143\n",
            "  (2, 3)\t0.8610369959439764\n",
            "  (2, 5)\t0.5085423203783267\n"
          ]
        }
      ],
      "source": [
        "text1=\"i like cricket im fan of dhoni.\"\n",
        "\n",
        "text2=\"i like cricket im fan of sachin.\"\n",
        "\n",
        "text3=\"i like football\"\n",
        "\n",
        "compare_list=[text1,text2,text3]\n",
        "from sklearn.feature_extraction.text import TfidfVectorizer\n",
        "\n",
        "tfidf=TfidfVectorizer()\n",
        "\n",
        "tfidf_matrix=tfidf.fit_transform(compare_list)\n",
        "\n",
        "print(tfidf_matrix)"
      ]
    },
    {
      "cell_type": "code",
      "source": [
        "tfidf.vocabulary_"
      ],
      "metadata": {
        "colab": {
          "base_uri": "https://localhost:8080/"
        },
        "id": "cAnVP6s2i2au",
        "outputId": "5785f422-9151-4fa4-e7c0-e4ea32d2968e"
      },
      "execution_count": 8,
      "outputs": [
        {
          "output_type": "execute_result",
          "data": {
            "text/plain": [
              "{'like': 4, 'cricket': 0, 'im': 3, 'fan': 2, 'of': 5, 'dhoni': 1}"
            ]
          },
          "metadata": {},
          "execution_count": 8
        }
      ]
    },
    {
      "cell_type": "code",
      "source": [
        "from sklearn.metrics.pairwise import cosine_similarity\n",
        "cos_sim=cosine_similarity(tfidf_matrix)\n",
        "\n",
        "print(cos_sim[1,0])"
      ],
      "metadata": {
        "colab": {
          "base_uri": "https://localhost:8080/"
        },
        "id": "rL0_WnyFjQz0",
        "outputId": "9f370322-17cb-4ce8-f2f8-d2728398391d"
      },
      "execution_count": 18,
      "outputs": [
        {
          "output_type": "stream",
          "name": "stdout",
          "text": [
            "0.7269568815850795\n"
          ]
        }
      ]
    }
  ]
}