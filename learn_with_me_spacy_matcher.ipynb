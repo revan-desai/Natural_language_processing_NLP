{
  "nbformat": 4,
  "nbformat_minor": 0,
  "metadata": {
    "colab": {
      "provenance": [],
      "authorship_tag": "ABX9TyNWg46K6h+xH/xchuknpq4L",
      "include_colab_link": true
    },
    "kernelspec": {
      "name": "python3",
      "display_name": "Python 3"
    },
    "language_info": {
      "name": "python"
    }
  },
  "cells": [
    {
      "cell_type": "markdown",
      "metadata": {
        "id": "view-in-github",
        "colab_type": "text"
      },
      "source": [
        "<a href=\"https://colab.research.google.com/github/revan-desai/Natural_language_processing_NLP/blob/main/learn_with_me_spacy_matcher.ipynb\" target=\"_parent\"><img src=\"https://colab.research.google.com/assets/colab-badge.svg\" alt=\"Open In Colab\"/></a>"
      ]
    },
    {
      "cell_type": "code",
      "execution_count": 1,
      "metadata": {
        "id": "LD3upvTRhDQw"
      },
      "outputs": [],
      "source": [
        "import spacy\n",
        "from spacy.matcher import Matcher"
      ]
    },
    {
      "cell_type": "code",
      "source": [
        "nlp=spacy.load(\"en_core_web_sm\")"
      ],
      "metadata": {
        "id": "PeXICQH7hkUU"
      },
      "execution_count": 4,
      "outputs": []
    },
    {
      "cell_type": "code",
      "source": [
        "matcher=Matcher(nlp.vocab)\n",
        "pattern1=[{\"LIKE_EMAIL\":True}]      #https://spacy.io/api/matcher   see all patterns here like this.\n",
        "pattern2=[{\"LOWER\":\"hello\"}]\n",
        "matcher.add(\"email_address\",[pattern1])\n",
        "matcher.add(\"lower\",[pattern2])\n",
        "doc=nlp(\"hello there i am your assostant xysz@email.com\")\n",
        "matches=matcher(doc)\n",
        "\n",
        "for match in matches:\n",
        "  print(match,doc[match[1]:match[2]])\n",
        "# print(nlp.vocab[matches[0][0]].text)"
      ],
      "metadata": {
        "colab": {
          "base_uri": "https://localhost:8080/"
        },
        "id": "U1xjkPN3i985",
        "outputId": "e38219bb-d0b8-4672-e48f-19927697d576"
      },
      "execution_count": 48,
      "outputs": [
        {
          "output_type": "stream",
          "name": "stdout",
          "text": [
            "(5214811637946031204, 0, 1) hello\n",
            "(9645450809997398735, 6, 7) xysz@email.com\n"
          ]
        }
      ]
    },
    {
      "cell_type": "code",
      "source": [
        "# !python -m spacy download en_core_web_lg"
      ],
      "metadata": {
        "id": "54-deXPB1vyU"
      },
      "execution_count": 39,
      "outputs": []
    },
    {
      "cell_type": "code",
      "source": [
        "text1=\"\"\"\n",
        "Certainly! Here's a sample text with person names:\n",
        "John Smith, a renowned scientist, arrived at the conference venue early in the morning.\n",
        "He was greeted by Dr. Emily Johnson, his longtime colleague, who had flown in from New York.\n",
        "They were joined by Professor David Lee, a leading expert in the field, and Dr. Sarah Williams,\n",
        "a rising star in academia. Together, they discussed their latest research findings and exchanged ideas for future collaborations.\"\"\"\n",
        "text=text1+\"\"\"Thank you for reaching out to us at support@example.com regarding your recent inquiry. We appreciate your interest in our products and services.\n",
        "\n",
        "As requested, we have processed your order and sent a confirmation to your email address: john.doe@example.com. If you have any further questions or concerns, please don't hesitate to contact us at sales@example.com.\n",
        "\n",
        "Best regards,\n",
        "The Support Team\n",
        "info@example.com\"\"\"\n",
        "\n",
        "nlp=spacy.load(\"en_core_web_lg\")\n",
        "doc=nlp(text)\n",
        "matcher=Matcher(nlp.vocab)\n",
        "pattern=[{\"LIKE_EMAIL\":True}]\n",
        "matcher.add(\"email_address\",[pattern])\n",
        "pattern1=[{\"POS\":\"PROPN\",\"OP\":\"+\"}]\n",
        "matcher.add(\"person\",[pattern1],greedy=\"LONGEST\")\n",
        "matches=matcher(doc)\n",
        "matches.sort(key=lambda x:x[1])  #  13 35.......\n",
        "for match in matches:\n",
        "  print(match,doc[match[1]:match[2]])"
      ],
      "metadata": {
        "colab": {
          "base_uri": "https://localhost:8080/"
        },
        "id": "5Q6VVpQ709vT",
        "outputId": "74de6bcf-3e74-4752-b237-cfee8f9d9e63"
      },
      "execution_count": 51,
      "outputs": [
        {
          "output_type": "stream",
          "name": "stdout",
          "text": [
            "(14800503047316267216, 13, 15) John Smith\n",
            "(14800503047316267216, 35, 38) Dr. Emily Johnson\n",
            "(14800503047316267216, 48, 50) New York\n",
            "(14800503047316267216, 56, 59) Professor David Lee\n",
            "(14800503047316267216, 68, 71) Dr. Sarah Williams\n",
            "(9645450809997398735, 102, 103) support@example.com\n",
            "(9645450809997398735, 136, 137) john.doe@example.com\n",
            "(9645450809997398735, 155, 156) sales@example.com\n",
            "(14800503047316267216, 155, 156) sales@example.com\n",
            "(14800503047316267216, 163, 165) Support Team\n",
            "(9645450809997398735, 166, 167) info@example.com\n",
            "(14800503047316267216, 166, 167) info@example.com\n"
          ]
        }
      ]
    }
  ]
}